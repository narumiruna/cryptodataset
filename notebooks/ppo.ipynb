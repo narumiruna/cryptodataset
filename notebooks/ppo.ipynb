{
 "cells": [
  {
   "cell_type": "code",
   "execution_count": null,
   "id": "1dee4584",
   "metadata": {},
   "outputs": [],
   "source": [
    "!pip install cryptodataset >> log.txt\n",
    "!pip install stable-baselines3 >> log.txt"
   ]
  },
  {
   "cell_type": "code",
   "execution_count": 1,
   "id": "79dfd0fc",
   "metadata": {},
   "outputs": [
    {
     "ename": "ModuleNotFoundError",
     "evalue": "No module named 'cryptodataset.envs'",
     "output_type": "error",
     "traceback": [
      "\u001b[0;31m---------------------------------------------------------------------------\u001b[0m",
      "\u001b[0;31mModuleNotFoundError\u001b[0m                       Traceback (most recent call last)",
      "Cell \u001b[0;32mIn[1], line 1\u001b[0m\n\u001b[0;32m----> 1\u001b[0m \u001b[38;5;28;01mfrom\u001b[39;00m \u001b[38;5;21;01mcryptodataset\u001b[39;00m\u001b[38;5;21;01m.\u001b[39;00m\u001b[38;5;21;01menvs\u001b[39;00m \u001b[38;5;28;01mimport\u001b[39;00m TradingEnv\n",
      "\u001b[0;31mModuleNotFoundError\u001b[0m: No module named 'cryptodataset.envs'"
     ]
    }
   ],
   "source": [
    "from cryptodataset.envs import TradingEnv\n",
    "from cryptodataset.evaluation import evaluate_model\n",
    "from stable-baselines3 import PPO"
   ]
  },
  {
   "cell_type": "code",
   "execution_count": null,
   "id": "ed996323",
   "metadata": {},
   "outputs": [],
   "source": [
    "\n",
    "env = TradingEnv()\n",
    "model = PPO(policy='MlpPolicy', env=env)\n",
    "for i in range(100):\n",
    "    model.learn(5_000)\n",
    "    mean_reward, std_reward = evaluate_model(model, env)\n",
    "    print('#{}, mean_reward: {}, std_reward: {}'.format(i, mean_reward, std_reward))"
   ]
  }
 ],
 "metadata": {
  "kernelspec": {
   "display_name": "Python 3 (ipykernel)",
   "language": "python",
   "name": "python3"
  },
  "language_info": {
   "codemirror_mode": {
    "name": "ipython",
    "version": 3
   },
   "file_extension": ".py",
   "mimetype": "text/x-python",
   "name": "python",
   "nbconvert_exporter": "python",
   "pygments_lexer": "ipython3",
   "version": "3.9.12"
  }
 },
 "nbformat": 4,
 "nbformat_minor": 5
}
