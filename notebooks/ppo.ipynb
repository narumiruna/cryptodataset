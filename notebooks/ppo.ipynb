{
  "cells": [
    {
      "cell_type": "code",
      "execution_count": 1,
      "id": "1dee4584",
      "metadata": {
        "id": "1dee4584",
        "outputId": "79f3ca9e-3c7a-472b-ce38-55de84f126f9",
        "colab": {
          "base_uri": "https://localhost:8080/"
        }
      },
      "outputs": [
        {
          "output_type": "stream",
          "name": "stdout",
          "text": [
            "  \u001b[1;31merror\u001b[0m: \u001b[1msubprocess-exited-with-error\u001b[0m\n",
            "  \n",
            "  \u001b[31m×\u001b[0m \u001b[32mpython setup.py bdist_wheel\u001b[0m did not run successfully.\n",
            "  \u001b[31m│\u001b[0m exit code: \u001b[1;36m1\u001b[0m\n",
            "  \u001b[31m╰─>\u001b[0m See above for output.\n",
            "  \n",
            "  \u001b[1;35mnote\u001b[0m: This error originates from a subprocess, and is likely not a problem with pip.\n",
            "\u001b[31m  ERROR: Failed building wheel for gym\u001b[0m\u001b[31m\n",
            "\u001b[0m\u001b[33m  DEPRECATION: gym was installed using the legacy 'setup.py install' method, because a wheel could not be built for it. A possible replacement is to fix the wheel build issue reported above. Discussion can be found at https://github.com/pypa/pip/issues/8368\u001b[0m\u001b[33m\n",
            "\u001b[0m\u001b[31mERROR: pip's dependency resolver does not currently take into account all the packages that are installed. This behaviour is the source of the following dependency conflicts.\n",
            "cryptodataset 0.3.7 requires gym<0.27.0,>=0.26.2, but you have gym 0.21.0 which is incompatible.\u001b[0m\u001b[31m\n",
            "\u001b[0m"
          ]
        }
      ],
      "source": [
        "!pip install cryptodataset==0.3.7 >> log.txt\n",
        "!pip install stable-baselines3 >> log.txt"
      ]
    },
    {
      "cell_type": "code",
      "execution_count": 2,
      "id": "79dfd0fc",
      "metadata": {
        "id": "79dfd0fc"
      },
      "outputs": [],
      "source": [
        "from cryptodataset.envs import TradingEnv\n",
        "from cryptodataset.evaluation import evaluate_model\n",
        "from stable_baselines3 import PPO"
      ]
    },
    {
      "cell_type": "code",
      "source": [],
      "metadata": {
        "id": "SnuSPy3BzRS-"
      },
      "id": "SnuSPy3BzRS-",
      "execution_count": null,
      "outputs": []
    },
    {
      "cell_type": "code",
      "execution_count": 6,
      "id": "ed996323",
      "metadata": {
        "id": "ed996323",
        "outputId": "6c2d9609-d7eb-40f3-d3af-a6c599fd5c1f",
        "colab": {
          "base_uri": "https://localhost:8080/"
        }
      },
      "outputs": [
        {
          "output_type": "stream",
          "name": "stderr",
          "text": [
            "2023-03-22 14:31:45.283 | INFO     | cryptodataset.ccxt:download_ohlcv:68 - data/KuCoin_BTCUSDT_1h.csv already exists, reading data from file\n"
          ]
        },
        {
          "output_type": "stream",
          "name": "stdout",
          "text": [
            "{'compsum': -0.6083818748482599, 'max_drawdown': -0.8580693043490674, 'sharpe': -0.043418042404877906}\n",
            "{'compsum': 6.371708793289721, 'max_drawdown': -0.4373579329214038, 'sharpe': 0.4464200692031347}\n",
            "{'compsum': 5.195783614764277, 'max_drawdown': -0.40896637869634256, 'sharpe': 0.41760359775555794}\n",
            "{'compsum': -0.13395413117020172, 'max_drawdown': -0.7125023341936323, 'sharpe': 0.09419858754449355}\n",
            "{'compsum': 0.2480160198916257, 'max_drawdown': -0.7406140656152467, 'sharpe': 0.1603413386804664}\n",
            "{'compsum': 3.1139046316400334, 'max_drawdown': -0.6003112973401133, 'sharpe': 0.35329302138105084}\n",
            "{'compsum': 5.1946347406942035, 'max_drawdown': -0.3764629929574057, 'sharpe': 0.42735570638812287}\n",
            "{'compsum': 34.646289209364355, 'max_drawdown': -0.39801648789432575, 'sharpe': 0.727675620858793}\n",
            "{'compsum': 15.038099482114426, 'max_drawdown': -0.37675247257603417, 'sharpe': 0.6178703983992796}\n",
            "{'compsum': 0.9987852038783622, 'max_drawdown': -0.5607729905998499, 'sharpe': 0.23867657203582934}\n",
            "{'compsum': 17.407490620157734, 'max_drawdown': -0.3309526562262436, 'sharpe': 0.6499851467997405}\n",
            "{'compsum': 39.42927577353967, 'max_drawdown': -0.2586433083483277, 'sharpe': 0.8154293403496882}\n",
            "{'compsum': 18.148157405830837, 'max_drawdown': -0.4688679952313354, 'sharpe': 0.6144465272523432}\n",
            "{'compsum': 49.092924239416206, 'max_drawdown': -0.36583833794023957, 'sharpe': 0.8106320302654627}\n",
            "{'compsum': 39.610637463850246, 'max_drawdown': -0.3325778242468327, 'sharpe': 0.749062670597563}\n",
            "{'compsum': 16.476854159107347, 'max_drawdown': -0.37853613805226727, 'sharpe': 0.6350845074279472}\n",
            "{'compsum': 47.744635457216994, 'max_drawdown': -0.2871238852791369, 'sharpe': 0.8064300625376856}\n",
            "{'compsum': 50.009870487798395, 'max_drawdown': -0.2919890257506146, 'sharpe': 0.8270468558103959}\n",
            "{'compsum': 89.69108428548329, 'max_drawdown': -0.3853625937242573, 'sharpe': 0.8927598033161269}\n",
            "{'compsum': 70.41836001341818, 'max_drawdown': -0.324503073821118, 'sharpe': 0.8901223420117117}\n",
            "{'compsum': 127.2263616517607, 'max_drawdown': -0.2964012297182206, 'sharpe': 0.9635029542967978}\n",
            "{'compsum': 147.07056680685508, 'max_drawdown': -0.31871210110928627, 'sharpe': 0.9985361843235863}\n",
            "{'compsum': 148.11065729486936, 'max_drawdown': -0.3396711527756303, 'sharpe': 1.0126384368407104}\n",
            "{'compsum': 374.48936530657664, 'max_drawdown': -0.382300206753978, 'sharpe': 1.179929543371717}\n",
            "{'compsum': 111.01253497013406, 'max_drawdown': -0.36179380288502894, 'sharpe': 0.9491245833950749}\n",
            "{'compsum': 83.9676135440034, 'max_drawdown': -0.2798220026187894, 'sharpe': 0.9098723828167945}\n",
            "{'compsum': 277.1010444618616, 'max_drawdown': -0.31477895928305166, 'sharpe': 1.1368146297677402}\n",
            "{'compsum': 294.34943957143196, 'max_drawdown': -0.27083151167607145, 'sharpe': 1.1943593045887932}\n",
            "{'compsum': 220.0196670690252, 'max_drawdown': -0.32799682467605973, 'sharpe': 1.1144913840170985}\n",
            "{'compsum': 44.10901139632734, 'max_drawdown': -0.2977360556881138, 'sharpe': 0.8125104993960871}\n",
            "{'compsum': 136.40332414133556, 'max_drawdown': -0.2879235281474676, 'sharpe': 1.055928286977135}\n",
            "{'compsum': 559.5485117798701, 'max_drawdown': -0.2271421238884087, 'sharpe': 1.3276314789132113}\n",
            "{'compsum': 281.8567953646828, 'max_drawdown': -0.2899113319247516, 'sharpe': 1.1371682843578146}\n",
            "{'compsum': 243.37471056413716, 'max_drawdown': -0.2803032168254881, 'sharpe': 1.1596846318674157}\n",
            "{'compsum': 143.2137200451894, 'max_drawdown': -0.5187953662062111, 'sharpe': 1.0066121707285844}\n",
            "{'compsum': 281.3728581382583, 'max_drawdown': -0.3193807652687095, 'sharpe': 1.1596206174504884}\n",
            "{'compsum': 364.1143550639909, 'max_drawdown': -0.31047132526622434, 'sharpe': 1.1767427662064514}\n",
            "{'compsum': 434.2399362469712, 'max_drawdown': -0.32335828944908995, 'sharpe': 1.258385245376866}\n",
            "{'compsum': 441.3950879448292, 'max_drawdown': -0.3004627060852053, 'sharpe': 1.2638138924556188}\n",
            "{'compsum': 935.5507913020718, 'max_drawdown': -0.3341039189109707, 'sharpe': 1.3510983890326844}\n",
            "{'compsum': 367.7736547995554, 'max_drawdown': -0.3451959464546527, 'sharpe': 1.211361010357477}\n",
            "{'compsum': 261.4122935281564, 'max_drawdown': -0.35018353045424, 'sharpe': 1.117433641833204}\n",
            "{'compsum': 350.79363513784676, 'max_drawdown': -0.29932810249730657, 'sharpe': 1.2127516090769586}\n",
            "{'compsum': 580.067630600456, 'max_drawdown': -0.2586030248434952, 'sharpe': 1.274107946800219}\n",
            "{'compsum': 525.3395345682566, 'max_drawdown': -0.2852459018736898, 'sharpe': 1.2423567447039106}\n",
            "{'compsum': 288.93419639836605, 'max_drawdown': -0.347859839484033, 'sharpe': 1.1885608144816464}\n",
            "{'compsum': 538.0688781526113, 'max_drawdown': -0.3012951082466151, 'sharpe': 1.3238460509103633}\n",
            "{'compsum': 218.77551808380045, 'max_drawdown': -0.25827193205960797, 'sharpe': 1.1523381668450816}\n",
            "{'compsum': 177.94639565831224, 'max_drawdown': -0.24100610123712118, 'sharpe': 1.1460252071353694}\n",
            "{'compsum': 1326.4844405291642, 'max_drawdown': -0.22527978422592387, 'sharpe': 1.4842233087825139}\n",
            "{'compsum': 221.48561785058544, 'max_drawdown': -0.2695279019935446, 'sharpe': 1.1834068064584014}\n",
            "{'compsum': 562.7899738634427, 'max_drawdown': -0.21126188266129486, 'sharpe': 1.3632829421116937}\n",
            "{'compsum': 307.94075655222144, 'max_drawdown': -0.29320870838620794, 'sharpe': 1.2619376456844829}\n",
            "{'compsum': 728.5404057395916, 'max_drawdown': -0.21136497225894968, 'sharpe': 1.47013883184416}\n",
            "{'compsum': 278.18008894166184, 'max_drawdown': -0.23265565879085492, 'sharpe': 1.2596748494356766}\n",
            "{'compsum': 663.2831273757375, 'max_drawdown': -0.22393070899744305, 'sharpe': 1.41589695936919}\n",
            "{'compsum': 796.2513290628234, 'max_drawdown': -0.24827990966116253, 'sharpe': 1.5024362896487216}\n",
            "{'compsum': 909.4650996531726, 'max_drawdown': -0.22597887042451636, 'sharpe': 1.499122313692888}\n",
            "{'compsum': 644.866486310611, 'max_drawdown': -0.21595050360404977, 'sharpe': 1.379982099493771}\n",
            "{'compsum': 908.4305574891089, 'max_drawdown': -0.19766391473591838, 'sharpe': 1.4383888505079316}\n",
            "{'compsum': 972.1417456784899, 'max_drawdown': -0.29646195413345255, 'sharpe': 1.4781318655857876}\n",
            "{'compsum': 844.9820329029917, 'max_drawdown': -0.2384192567176171, 'sharpe': 1.4593478967931433}\n",
            "{'compsum': 375.8242583493321, 'max_drawdown': -0.24264162242294507, 'sharpe': 1.3328621853147438}\n",
            "{'compsum': 353.286074230627, 'max_drawdown': -0.26625392876953846, 'sharpe': 1.277546496245247}\n",
            "{'compsum': 913.5878241390292, 'max_drawdown': -0.22581653223633225, 'sharpe': 1.4769777305046734}\n",
            "{'compsum': 410.90798538370115, 'max_drawdown': -0.1970207606956519, 'sharpe': 1.3466229441943143}\n",
            "{'compsum': 268.09915186354687, 'max_drawdown': -0.31453375482805557, 'sharpe': 1.226556610522238}\n",
            "{'compsum': 570.6787543619988, 'max_drawdown': -0.24114194200380212, 'sharpe': 1.382837303086402}\n",
            "{'compsum': 378.2505466160263, 'max_drawdown': -0.24871762882582205, 'sharpe': 1.3333331217251507}\n",
            "{'compsum': 1021.7845292302582, 'max_drawdown': -0.19829107966018789, 'sharpe': 1.47689013734875}\n",
            "{'compsum': 693.3046133331006, 'max_drawdown': -0.27884995695890935, 'sharpe': 1.424417093280567}\n",
            "{'compsum': 1316.7108257963878, 'max_drawdown': -0.17316095685876476, 'sharpe': 1.608885683785706}\n",
            "{'compsum': 715.0709050251415, 'max_drawdown': -0.2344220161571845, 'sharpe': 1.4367157649740834}\n",
            "{'compsum': 802.8974637149981, 'max_drawdown': -0.22742288445619385, 'sharpe': 1.4347223995192588}\n",
            "{'compsum': 754.7882868585195, 'max_drawdown': -0.27370892077718345, 'sharpe': 1.452340413619838}\n",
            "{'compsum': 1194.8347670198432, 'max_drawdown': -0.216050430161969, 'sharpe': 1.5398513187500793}\n",
            "{'compsum': 1068.6550532254987, 'max_drawdown': -0.2761532481262041, 'sharpe': 1.5098241681198823}\n",
            "{'compsum': 2221.1169084812586, 'max_drawdown': -0.18892035176170763, 'sharpe': 1.6385023344917125}\n",
            "{'compsum': 960.588516694985, 'max_drawdown': -0.34972677616948833, 'sharpe': 1.5106757472318384}\n",
            "{'compsum': 1673.009737506742, 'max_drawdown': -0.21946566160370284, 'sharpe': 1.6902416209424}\n",
            "{'compsum': 1681.6208494749785, 'max_drawdown': -0.20982612481069274, 'sharpe': 1.7091815555570962}\n",
            "{'compsum': 1446.1054516270049, 'max_drawdown': -0.26160510486398836, 'sharpe': 1.6027616098323885}\n",
            "{'compsum': 5930.756283597755, 'max_drawdown': -0.26115692595772055, 'sharpe': 1.862245917722837}\n",
            "{'compsum': 727.2372060442327, 'max_drawdown': -0.21126188266129486, 'sharpe': 1.4110575102543421}\n",
            "{'compsum': 1060.365613008191, 'max_drawdown': -0.2426436585835715, 'sharpe': 1.5513459284156157}\n",
            "{'compsum': 669.6255671397931, 'max_drawdown': -0.2668154562006334, 'sharpe': 1.4099762410377796}\n",
            "{'compsum': 574.7855410805953, 'max_drawdown': -0.25907161799619205, 'sharpe': 1.4018995148899356}\n",
            "{'compsum': 976.1707597432847, 'max_drawdown': -0.20523755368248786, 'sharpe': 1.4370851774368179}\n",
            "{'compsum': 1845.1593967890694, 'max_drawdown': -0.2740687596209078, 'sharpe': 1.635034189546209}\n",
            "{'compsum': 1201.7824505782737, 'max_drawdown': -0.3545719679219538, 'sharpe': 1.5350620499810346}\n",
            "{'compsum': 788.2606514008415, 'max_drawdown': -0.2798737054832994, 'sharpe': 1.4827145921904075}\n",
            "{'compsum': 736.1835464935887, 'max_drawdown': -0.32326388384094307, 'sharpe': 1.4200185803743994}\n",
            "{'compsum': 442.59000474396913, 'max_drawdown': -0.267966903211902, 'sharpe': 1.3725397178060248}\n",
            "{'compsum': 525.510099649439, 'max_drawdown': -0.2999155767162991, 'sharpe': 1.3734543488297848}\n",
            "{'compsum': 2068.2128024556637, 'max_drawdown': -0.24644630030558223, 'sharpe': 1.647244912967422}\n",
            "{'compsum': 1872.3058555206742, 'max_drawdown': -0.2967741935483871, 'sharpe': 1.6121986556656265}\n",
            "{'compsum': 2848.0657111934333, 'max_drawdown': -0.3165543379262883, 'sharpe': 1.821733559878786}\n",
            "{'compsum': 2356.0774464355673, 'max_drawdown': -0.1872449206583484, 'sharpe': 1.70524198812325}\n",
            "{'compsum': 4542.85370077845, 'max_drawdown': -0.19909848178339407, 'sharpe': 1.8597555892589448}\n",
            "{'compsum': 2231.6462354026157, 'max_drawdown': -0.2565082019124745, 'sharpe': 1.6631297569834087}\n"
          ]
        }
      ],
      "source": [
        "env = TradingEnv(exchange='KuCoin', symbol='BTC/USDT')\n",
        "model = PPO(policy='MlpPolicy', env=env)\n",
        "for i in range(100):\n",
        "    model.learn(5_000)\n",
        "    # mean_reward, std_reward = evaluate_model(model, env, num_episodes=1)\n",
        "    # print('#{}, mean_reward: {}, std_reward: {}'.format(i, mean_reward, std_reward))\n",
        "    metrics = env.get_metrics()\n",
        "    print(metrics)"
      ]
    },
    {
      "cell_type": "code",
      "source": [
        "env = TradingEnv(exchange='KuCoin', symbol='ETH/USDT')"
      ],
      "metadata": {
        "id": "s_0S6elAqirq",
        "outputId": "2b553fcf-687b-4bc9-eefd-11228cb5eda6",
        "colab": {
          "base_uri": "https://localhost:8080/"
        }
      },
      "id": "s_0S6elAqirq",
      "execution_count": 7,
      "outputs": [
        {
          "output_type": "stream",
          "name": "stderr",
          "text": [
            "2023-03-22 14:46:13.789 | INFO     | cryptodataset.ccxt:get_ohlcv:23 - fetching ETH/USDT ohlcv form KuCoin with timeframe 1h\n",
            "2023-03-22 14:46:29.149 | INFO     | cryptodataset.ccxt:download_ohlcv:75 - saving ohlcv to data/KuCoin_ETHUSDT_1h.csv\n"
          ]
        }
      ]
    },
    {
      "cell_type": "code",
      "source": [
        "def evaluate(model, env):\n",
        "    obs = env.reset()\n",
        "\n",
        "    done = False\n",
        "    while not done:\n",
        "        action, _ = model.predict(obs, deterministic=True)\n",
        "        obs, reward, done, info = env.step(action)\n",
        "    print(env.get_metrics())\n",
        "\n",
        "evaluate(model, env)"
      ],
      "metadata": {
        "id": "IZHMahUhyOsi",
        "outputId": "5f75e514-d242-4a49-d9f3-7d41bc92d78a",
        "colab": {
          "base_uri": "https://localhost:8080/"
        }
      },
      "id": "IZHMahUhyOsi",
      "execution_count": 8,
      "outputs": [
        {
          "output_type": "stream",
          "name": "stdout",
          "text": [
            "{'compsum': 657.8308633599319, 'max_drawdown': -0.6554063955867265, 'sharpe': 0.33921150858968924}\n"
          ]
        }
      ]
    },
    {
      "cell_type": "code",
      "source": [
        "class BuyAndHold:\n",
        "    def predict(self, obs, *args, **kwargs):\n",
        "        return 2, None\n",
        "evaluate(BuyAndHold(), env)"
      ],
      "metadata": {
        "id": "toXWhdcXynoG",
        "outputId": "4258339f-071d-47f0-b484-01263e5ce2a9",
        "colab": {
          "base_uri": "https://localhost:8080/"
        }
      },
      "id": "toXWhdcXynoG",
      "execution_count": 12,
      "outputs": [
        {
          "output_type": "stream",
          "name": "stdout",
          "text": [
            "{'compsum': 4.803007559394317, 'max_drawdown': -0.9424938888111888, 'sharpe': 0.14730410514883358}\n"
          ]
        }
      ]
    },
    {
      "cell_type": "code",
      "source": [],
      "metadata": {
        "id": "9Xt_P5KQy74W"
      },
      "id": "9Xt_P5KQy74W",
      "execution_count": null,
      "outputs": []
    }
  ],
  "metadata": {
    "kernelspec": {
      "display_name": "Python 3 (ipykernel)",
      "language": "python",
      "name": "python3"
    },
    "language_info": {
      "codemirror_mode": {
        "name": "ipython",
        "version": 3
      },
      "file_extension": ".py",
      "mimetype": "text/x-python",
      "name": "python",
      "nbconvert_exporter": "python",
      "pygments_lexer": "ipython3",
      "version": "3.9.12"
    },
    "colab": {
      "provenance": []
    }
  },
  "nbformat": 4,
  "nbformat_minor": 5
}