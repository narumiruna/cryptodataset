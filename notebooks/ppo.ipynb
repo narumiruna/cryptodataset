{
  "cells": [
    {
      "cell_type": "markdown",
      "source": [
        "<a target=\"_blank\" href=\"https://colab.research.google.com/github/narumiruna/cryptodataset/blob/main/notebooks/ppo.ipynb\">\n",
        "  <img src=\"https://colab.research.google.com/assets/colab-badge.svg\" alt=\"Open In Colab\"/>\n",
        "</a>"
      ],
      "metadata": {
        "id": "jLCzHj2Iz-j3"
      },
      "id": "jLCzHj2Iz-j3"
    },
    {
      "cell_type": "code",
      "execution_count": 24,
      "id": "1dee4584",
      "metadata": {
        "colab": {
          "base_uri": "https://localhost:8080/"
        },
        "id": "1dee4584",
        "outputId": "6020d275-6bb0-4e36-aae8-70ffb49d74d1"
      },
      "outputs": [
        {
          "output_type": "stream",
          "name": "stdout",
          "text": [
            "\u001b[31mERROR: pip's dependency resolver does not currently take into account all the packages that are installed. This behaviour is the source of the following dependency conflicts.\n",
            "stable-baselines3 1.7.0 requires gym==0.21, but you have gym 0.26.2 which is incompatible.\u001b[0m\u001b[31m\n",
            "\u001b[0m  \u001b[1;31merror\u001b[0m: \u001b[1msubprocess-exited-with-error\u001b[0m\n",
            "  \n",
            "  \u001b[31m×\u001b[0m \u001b[32mpython setup.py bdist_wheel\u001b[0m did not run successfully.\n",
            "  \u001b[31m│\u001b[0m exit code: \u001b[1;36m1\u001b[0m\n",
            "  \u001b[31m╰─>\u001b[0m See above for output.\n",
            "  \n",
            "  \u001b[1;35mnote\u001b[0m: This error originates from a subprocess, and is likely not a problem with pip.\n",
            "\u001b[31m  ERROR: Failed building wheel for gym\u001b[0m\u001b[31m\n",
            "\u001b[0m\u001b[33m  DEPRECATION: gym was installed using the legacy 'setup.py install' method, because a wheel could not be built for it. A possible replacement is to fix the wheel build issue reported above. Discussion can be found at https://github.com/pypa/pip/issues/8368\u001b[0m\u001b[33m\n",
            "\u001b[0m\u001b[31mERROR: pip's dependency resolver does not currently take into account all the packages that are installed. This behaviour is the source of the following dependency conflicts.\n",
            "cryptodataset 0.3.7 requires gym<0.27.0,>=0.26.2, but you have gym 0.21.0 which is incompatible.\u001b[0m\u001b[31m\n",
            "\u001b[0m"
          ]
        }
      ],
      "source": [
        "!pip install cryptodataset==0.3.7 >> log.txt\n",
        "!pip install stable-baselines3 >> log.txt"
      ]
    },
    {
      "cell_type": "code",
      "execution_count": 38,
      "id": "79dfd0fc",
      "metadata": {
        "id": "79dfd0fc"
      },
      "outputs": [],
      "source": [
        "from cryptodataset.envs import TradingEnv\n",
        "from stable_baselines3 import PPO"
      ]
    },
    {
      "cell_type": "code",
      "source": [
        "exchange = 'KuCoin'\n",
        "symbol = 'BTC/USDT'\n",
        "train_test_split = \"2022-01-01\""
      ],
      "metadata": {
        "id": "jQr9VKjY57tR"
      },
      "id": "jQr9VKjY57tR",
      "execution_count": 39,
      "outputs": []
    },
    {
      "cell_type": "code",
      "source": [
        "def evaluate(model, env):\n",
        "    obs = env.reset()\n",
        "\n",
        "    done = False\n",
        "    while not done:\n",
        "        action, _ = model.predict(obs, deterministic=True)\n",
        "        obs, reward, done, info = env.step(action)\n",
        "    \n",
        "    return env.get_metrics()"
      ],
      "metadata": {
        "id": "aTxGiBCB6FmX"
      },
      "id": "aTxGiBCB6FmX",
      "execution_count": 40,
      "outputs": []
    },
    {
      "cell_type": "code",
      "execution_count": 41,
      "id": "ed996323",
      "metadata": {
        "colab": {
          "base_uri": "https://localhost:8080/"
        },
        "id": "ed996323",
        "outputId": "694fe5be-b223-4975-8d58-03e4c6b8d977"
      },
      "outputs": [
        {
          "output_type": "stream",
          "name": "stderr",
          "text": [
            "2023-03-22 15:25:52.542 | INFO     | cryptodataset.ccxt:download_ohlcv:68 - data/KuCoin_BTCUSDT_1h.csv already exists, reading data from file\n"
          ]
        },
        {
          "output_type": "stream",
          "name": "stdout",
          "text": [
            "{'compsum': 1.868630015959034, 'max_drawdown': -0.7307055505089676, 'sharpe': 0.1200199339065469}\n",
            "{'compsum': 2.2338832757793856, 'max_drawdown': -0.5940011071206955, 'sharpe': 0.12672808698053104}\n",
            "{'compsum': 7.2578565869597185, 'max_drawdown': -0.38357520896054864, 'sharpe': 0.21085875041137034}\n",
            "{'compsum': 1.490483211972784, 'max_drawdown': -0.4397938522561359, 'sharpe': 0.12069378250236049}\n",
            "{'compsum': -0.4965989251951385, 'max_drawdown': -0.5971122161055242, 'sharpe': -0.06404365793111375}\n",
            "{'compsum': 4.799020582539592, 'max_drawdown': -0.5532749678469904, 'sharpe': 0.18176725551998402}\n",
            "{'compsum': 7.769695072872047, 'max_drawdown': -0.5663144195292908, 'sharpe': 0.22105763698381412}\n",
            "{'compsum': 8.724508639798927, 'max_drawdown': -0.48730298033385866, 'sharpe': 0.22002119170805134}\n",
            "{'compsum': 14.559452940470221, 'max_drawdown': -0.5127945171529648, 'sharpe': 0.25762135898644317}\n",
            "{'compsum': 8.576717603547122, 'max_drawdown': -0.6459437277061664, 'sharpe': 0.20120319946351553}\n",
            "{'compsum': 27.335037839981165, 'max_drawdown': -0.7082781282720311, 'sharpe': 0.2546843510741134}\n",
            "{'compsum': 22.568392890673145, 'max_drawdown': -0.7035144364006803, 'sharpe': 0.24634194902461393}\n",
            "{'compsum': 40.49378903197643, 'max_drawdown': -0.664432483513026, 'sharpe': 0.27779399651362596}\n",
            "{'compsum': 170.40612057866758, 'max_drawdown': -0.5703618875992, 'sharpe': 0.3463786174527953}\n",
            "{'compsum': 119.55922392490109, 'max_drawdown': -0.6538027839737224, 'sharpe': 0.32957148699342675}\n",
            "{'compsum': 91.60830967546194, 'max_drawdown': -0.6060371671412561, 'sharpe': 0.32158033052319046}\n",
            "{'compsum': 142.95246241426548, 'max_drawdown': -0.5524971284133608, 'sharpe': 0.34553529359206886}\n",
            "{'compsum': 169.41003136561258, 'max_drawdown': -0.5743086799641122, 'sharpe': 0.3637868089662058}\n",
            "{'compsum': 254.28780172953046, 'max_drawdown': -0.5509804114571606, 'sharpe': 0.4000466562544617}\n",
            "{'compsum': 539.9999247151005, 'max_drawdown': -0.6427675531359123, 'sharpe': 0.43662993609402034}\n",
            "{'compsum': 403.8165346376934, 'max_drawdown': -0.5506710073413534, 'sharpe': 0.41098217072267107}\n",
            "{'compsum': 543.2991168346092, 'max_drawdown': -0.5235079118167696, 'sharpe': 0.42489200771551794}\n",
            "{'compsum': 419.064196591629, 'max_drawdown': -0.5409833672610203, 'sharpe': 0.40768257148397996}\n",
            "{'compsum': 1042.530747414237, 'max_drawdown': -0.5842641016283585, 'sharpe': 0.45934345849780545}\n",
            "{'compsum': 829.888301835484, 'max_drawdown': -0.5936237376691307, 'sharpe': 0.44638688167098556}\n",
            "{'compsum': 791.0960026175752, 'max_drawdown': -0.5838151807503831, 'sharpe': 0.4365558645218996}\n",
            "{'compsum': 1544.7711455165575, 'max_drawdown': -0.5672717932144256, 'sharpe': 0.47758287635522856}\n",
            "{'compsum': 921.5236422471921, 'max_drawdown': -0.47692433875617213, 'sharpe': 0.4461545194081385}\n",
            "{'compsum': 875.7455206892583, 'max_drawdown': -0.518177272692152, 'sharpe': 0.4485543665689266}\n",
            "{'compsum': 877.5166050128222, 'max_drawdown': -0.5495120369788262, 'sharpe': 0.44327953086983657}\n",
            "{'compsum': 1093.453170861974, 'max_drawdown': -0.5772689028570881, 'sharpe': 0.4507331577212122}\n",
            "{'compsum': 930.5568130627388, 'max_drawdown': -0.6143791593611055, 'sharpe': 0.43806428291974203}\n",
            "{'compsum': 1144.805358483848, 'max_drawdown': -0.6284842739269862, 'sharpe': 0.45373237439632186}\n",
            "{'compsum': 901.2465897385091, 'max_drawdown': -0.5618180107671249, 'sharpe': 0.4372463283443492}\n",
            "{'compsum': 877.5423500564127, 'max_drawdown': -0.6041678620858795, 'sharpe': 0.44312864596015145}\n",
            "{'compsum': 767.0491394716666, 'max_drawdown': -0.6914163640181095, 'sharpe': 0.4327781198514055}\n",
            "{'compsum': 878.8158566068278, 'max_drawdown': -0.5608755313770217, 'sharpe': 0.4494838525906045}\n",
            "{'compsum': 1356.4108473937943, 'max_drawdown': -0.6640277488133124, 'sharpe': 0.4635635398140166}\n",
            "{'compsum': 1522.4936541428374, 'max_drawdown': -0.6604258700350214, 'sharpe': 0.4744912482796864}\n",
            "{'compsum': 1719.165708207177, 'max_drawdown': -0.6994217743879095, 'sharpe': 0.4811874572117313}\n",
            "{'compsum': 2579.433973659507, 'max_drawdown': -0.6526137708829445, 'sharpe': 0.5070872249058115}\n",
            "{'compsum': 3077.079283286765, 'max_drawdown': -0.5533624492356708, 'sharpe': 0.5281291190073079}\n",
            "{'compsum': 2018.9453771773365, 'max_drawdown': -0.5178141153374942, 'sharpe': 0.4945125241856952}\n",
            "{'compsum': 1908.8429541413416, 'max_drawdown': -0.6121911263300366, 'sharpe': 0.49213300168043167}\n",
            "{'compsum': 2166.1583865680313, 'max_drawdown': -0.4961904590476601, 'sharpe': 0.5001453182257375}\n",
            "{'compsum': 950.9801653344934, 'max_drawdown': -0.6390573366251978, 'sharpe': 0.44694466590472937}\n",
            "{'compsum': 1825.0560036567588, 'max_drawdown': -0.561666545720432, 'sharpe': 0.4824248665721274}\n",
            "{'compsum': 1797.3159635004592, 'max_drawdown': -0.482100058996245, 'sharpe': 0.48136944763820544}\n",
            "{'compsum': 1795.0321423515434, 'max_drawdown': -0.49833817286717974, 'sharpe': 0.4884579297335409}\n",
            "{'compsum': 1922.5956295621215, 'max_drawdown': -0.5241541636083462, 'sharpe': 0.48812087074727223}\n",
            "{'compsum': 3967.5097967823767, 'max_drawdown': -0.5791526786161917, 'sharpe': 0.5263139754490125}\n",
            "{'compsum': 2774.7857845826748, 'max_drawdown': -0.5824755637268915, 'sharpe': 0.5038440822167871}\n",
            "{'compsum': 2796.5838189575697, 'max_drawdown': -0.494020504898817, 'sharpe': 0.5026831430267854}\n",
            "{'compsum': 2051.264767349006, 'max_drawdown': -0.6550440486532381, 'sharpe': 0.47889180212632165}\n",
            "{'compsum': 2108.862054484487, 'max_drawdown': -0.6135177910173045, 'sharpe': 0.4783638870308064}\n",
            "{'compsum': 4402.912447732243, 'max_drawdown': -0.6055891619389255, 'sharpe': 0.5167807254402702}\n",
            "{'compsum': 2414.7805672232325, 'max_drawdown': -0.6298359334141717, 'sharpe': 0.47960534704511937}\n",
            "{'compsum': 4470.8046745328575, 'max_drawdown': -0.6120827452460167, 'sharpe': 0.5159368216289602}\n",
            "{'compsum': 3925.850539205355, 'max_drawdown': -0.6195416215467093, 'sharpe': 0.5111415670904134}\n",
            "{'compsum': 3404.9245407888484, 'max_drawdown': -0.6543126414585453, 'sharpe': 0.49962848565782736}\n",
            "{'compsum': 2543.658269125994, 'max_drawdown': -0.6793944201223547, 'sharpe': 0.4848576123500947}\n",
            "{'compsum': 2948.1981119627653, 'max_drawdown': -0.571117694412273, 'sharpe': 0.5001663322820834}\n",
            "{'compsum': 4569.648526002494, 'max_drawdown': -0.603090083062165, 'sharpe': 0.5235391945569056}\n",
            "{'compsum': 4350.364045582756, 'max_drawdown': -0.6021929493774132, 'sharpe': 0.5289306003667443}\n",
            "{'compsum': 2782.338584803961, 'max_drawdown': -0.509519596652735, 'sharpe': 0.5067097548709717}\n",
            "{'compsum': 2022.9983943754548, 'max_drawdown': -0.567449780402359, 'sharpe': 0.5027955431487894}\n",
            "{'compsum': 2450.7236759909742, 'max_drawdown': -0.45511439462859704, 'sharpe': 0.5258157611991471}\n",
            "{'compsum': 3837.8498981901616, 'max_drawdown': -0.3489198661323526, 'sharpe': 0.5554978646255923}\n",
            "{'compsum': 5718.473472606524, 'max_drawdown': -0.5457891081412592, 'sharpe': 0.5613375449443161}\n",
            "{'compsum': 8257.463144647396, 'max_drawdown': -0.464235652699001, 'sharpe': 0.5852322433623461}\n",
            "{'compsum': 11178.15203376935, 'max_drawdown': -0.3866584396142656, 'sharpe': 0.6114667492244343}\n",
            "{'compsum': 5398.107137022551, 'max_drawdown': -0.6084779273579505, 'sharpe': 0.5574353497989265}\n",
            "{'compsum': 7462.927520814455, 'max_drawdown': -0.6382256183694666, 'sharpe': 0.5831973979469732}\n",
            "{'compsum': 9110.954539043934, 'max_drawdown': -0.4341739530221501, 'sharpe': 0.6131653829294276}\n",
            "{'compsum': 4824.996960864652, 'max_drawdown': -0.6377208236347103, 'sharpe': 0.5648558551413347}\n",
            "{'compsum': 6021.1222125848535, 'max_drawdown': -0.6522087811024682, 'sharpe': 0.5707912888548263}\n",
            "{'compsum': 7599.928119639484, 'max_drawdown': -0.6403908210913225, 'sharpe': 0.5783241028611673}\n",
            "{'compsum': 5895.574401901566, 'max_drawdown': -0.5744726809274782, 'sharpe': 0.555563698040286}\n",
            "{'compsum': 9305.59943825765, 'max_drawdown': -0.5499853525767348, 'sharpe': 0.5892449261166188}\n",
            "{'compsum': 5533.815542392774, 'max_drawdown': -0.6471995194932583, 'sharpe': 0.5569867043705544}\n",
            "{'compsum': 10241.2447562456, 'max_drawdown': -0.4182522257339113, 'sharpe': 0.5977540641281502}\n",
            "{'compsum': 11271.438862497589, 'max_drawdown': -0.6612472779473865, 'sharpe': 0.5955856472387865}\n",
            "{'compsum': 5044.727873666027, 'max_drawdown': -0.6642326340912972, 'sharpe': 0.5434406275996471}\n",
            "{'compsum': 5758.720355323263, 'max_drawdown': -0.5270236623001812, 'sharpe': 0.5670789908189899}\n",
            "{'compsum': 2336.9254909428387, 'max_drawdown': -0.6434810119740537, 'sharpe': 0.5002610259892719}\n",
            "{'compsum': 2255.830968813211, 'max_drawdown': -0.6907905356068712, 'sharpe': 0.4984380578032448}\n",
            "{'compsum': 4854.728561217788, 'max_drawdown': -0.632798095914522, 'sharpe': 0.534768688853852}\n",
            "{'compsum': 8129.102500049729, 'max_drawdown': -0.6401112803519196, 'sharpe': 0.5542469149332566}\n",
            "{'compsum': 10412.244012568108, 'max_drawdown': -0.6413783284390254, 'sharpe': 0.5737449063531201}\n",
            "{'compsum': 4797.208656209325, 'max_drawdown': -0.6529130226757842, 'sharpe': 0.52498350607657}\n",
            "{'compsum': 7038.116290726013, 'max_drawdown': -0.6209791359131871, 'sharpe': 0.5465669418805302}\n",
            "{'compsum': 4120.357985210551, 'max_drawdown': -0.4892054327723493, 'sharpe': 0.5327554219106386}\n",
            "{'compsum': 5010.064709208314, 'max_drawdown': -0.50622836014814, 'sharpe': 0.5442872910987498}\n",
            "{'compsum': 7124.747659491487, 'max_drawdown': -0.4755605742852408, 'sharpe': 0.5730567726241445}\n",
            "{'compsum': 2559.8502457007367, 'max_drawdown': -0.5575855508561147, 'sharpe': 0.5089168938180025}\n",
            "{'compsum': 7053.887316965066, 'max_drawdown': -0.5483055686883966, 'sharpe': 0.5686960692708541}\n",
            "{'compsum': 3912.1483434149595, 'max_drawdown': -0.540354249481221, 'sharpe': 0.5355141753026144}\n",
            "{'compsum': 3673.063140330372, 'max_drawdown': -0.6291374993532632, 'sharpe': 0.5350002543368501}\n",
            "{'compsum': 7752.1202110597715, 'max_drawdown': -0.6533074163830512, 'sharpe': 0.5711791400163905}\n",
            "{'compsum': 12579.721423752442, 'max_drawdown': -0.6090609025170592, 'sharpe': 0.5968068032494375}\n"
          ]
        }
      ],
      "source": [
        "train_env = TradingEnv(exchange=exchange, symbol=symbol, end=train_test_split)\n",
        "model = PPO(policy='MlpPolicy', env=train_env)\n",
        "for i in range(100):\n",
        "    model.learn(5_000)\n",
        "\n",
        "    metrics = evaluate(model, train_env)\n",
        "    print(metrics)"
      ]
    },
    {
      "cell_type": "code",
      "source": [
        "test_env = TradingEnv(exchange=exchange, symbol=symbol, start=train_test_split)\n",
        "print(evaluate(model, test_env))\n"
      ],
      "metadata": {
        "colab": {
          "base_uri": "https://localhost:8080/"
        },
        "id": "s_0S6elAqirq",
        "outputId": "2875f660-96cf-4156-91fd-adf83ce7bb17"
      },
      "id": "s_0S6elAqirq",
      "execution_count": 44,
      "outputs": [
        {
          "output_type": "stream",
          "name": "stderr",
          "text": [
            "2023-03-22 16:11:27.649 | INFO     | cryptodataset.ccxt:download_ohlcv:68 - data/KuCoin_BTCUSDT_1h.csv already exists, reading data from file\n"
          ]
        },
        {
          "output_type": "stream",
          "name": "stdout",
          "text": [
            "{'compsum': -0.10308735885586573, 'max_drawdown': -0.4028264796297045, 'sharpe': -0.011150744826065442}\n"
          ]
        }
      ]
    },
    {
      "cell_type": "code",
      "source": [
        "class BuyAndHold:\n",
        "    def predict(self, obs, *args, **kwargs):\n",
        "        return 2, None\n",
        "print(evaluate(BuyAndHold(), test_env))"
      ],
      "metadata": {
        "colab": {
          "base_uri": "https://localhost:8080/"
        },
        "id": "toXWhdcXynoG",
        "outputId": "9dd81d88-ea9e-4eb6-8e90-0bfe7c46aee3"
      },
      "id": "toXWhdcXynoG",
      "execution_count": 45,
      "outputs": [
        {
          "output_type": "stream",
          "name": "stdout",
          "text": [
            "{'compsum': -0.3913336134381703, 'max_drawdown': -0.6737553759461978, 'sharpe': -0.05923409516729805}\n"
          ]
        }
      ]
    },
    {
      "cell_type": "code",
      "source": [],
      "metadata": {
        "id": "9Xt_P5KQy74W"
      },
      "id": "9Xt_P5KQy74W",
      "execution_count": null,
      "outputs": []
    }
  ],
  "metadata": {
    "kernelspec": {
      "display_name": "Python 3 (ipykernel)",
      "language": "python",
      "name": "python3"
    },
    "language_info": {
      "codemirror_mode": {
        "name": "ipython",
        "version": 3
      },
      "file_extension": ".py",
      "mimetype": "text/x-python",
      "name": "python",
      "nbconvert_exporter": "python",
      "pygments_lexer": "ipython3",
      "version": "3.9.12"
    },
    "colab": {
      "provenance": []
    }
  },
  "nbformat": 4,
  "nbformat_minor": 5
}